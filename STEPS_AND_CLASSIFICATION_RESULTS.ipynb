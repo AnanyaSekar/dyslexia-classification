{
  "nbformat": 4,
  "nbformat_minor": 0,
  "metadata": {
    "colab": {
      "provenance": [],
      "authorship_tag": "ABX9TyPf/e3U2HUNXg9U2ooGZwC/",
      "include_colab_link": true
    },
    "kernelspec": {
      "name": "python3",
      "display_name": "Python 3"
    },
    "language_info": {
      "name": "python"
    }
  },
  "cells": [
    {
      "cell_type": "markdown",
      "metadata": {
        "id": "view-in-github",
        "colab_type": "text"
      },
      "source": [
        "<a href=\"https://colab.research.google.com/github/AnanyaSekar/dyslexia-classification/blob/main/STEPS_AND_CLASSIFICATION_RESULTS.ipynb\" target=\"_parent\"><img src=\"https://colab.research.google.com/assets/colab-badge.svg\" alt=\"Open In Colab\"/></a>"
      ]
    },
    {
      "cell_type": "code",
      "execution_count": null,
      "metadata": {
        "id": "a5s1FYGAIgub"
      },
      "outputs": [],
      "source": [
        "#STEPS:\n",
        "# Load the data\n",
        "df = load_data('dyslexia_data.csv')  # Make sure your file is in the correct path or uploaded\n",
        "\n",
        "# Preprocess the data\n",
        "X, y = preprocess_data(df)\n",
        "\n",
        "# Normalize the data\n",
        "X = normalize_data(X)\n",
        "\n",
        "# Train and evaluate the model\n",
        "model = train_and_evaluate(X, y)\n",
        "\n",
        "\n",
        "\n",
        "#CLASSIFICATION RESULTS:\n",
        "precision    recall  f1-score   support\n",
        "\n",
        "           0       0.33      0.44      0.38        16\n",
        "           1       0.53      0.42      0.47        24\n",
        "\n",
        "    accuracy                           0.42        40\n",
        "   macro avg       0.43      0.43      0.42        40\n",
        "weighted avg       0.45      0.42      0.43        40\n",
        "\n"
      ]
    }
  ]
}