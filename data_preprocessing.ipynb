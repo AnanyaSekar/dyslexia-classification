//DATA PRE-PROCESSING
def load_data(file_path):
    """Loads the dataset from the given file path."""
    return pd.read_csv(file_path)

def preprocess_data(df):
    """Preprocesses the data by handling missing values and separating features and labels."""
    df.fillna(df.mean(), inplace=True)  # Handle missing values
    X = df.drop('target', axis=1)  # Features
    y = df['target']  # Target labels
    return X, y

def normalize_data(X):
    """Normalizes the features using StandardScaler."""
    scaler = StandardScaler()
    return scaler.fit_transform(X)