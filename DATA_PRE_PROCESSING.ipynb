{
  "nbformat": 4,
  "nbformat_minor": 0,
  "metadata": {
    "colab": {
      "provenance": [],
      "authorship_tag": "ABX9TyNXz4r4q7fECuuRqJRCPyU3",
      "include_colab_link": true
    },
    "kernelspec": {
      "name": "python3",
      "display_name": "Python 3"
    },
    "language_info": {
      "name": "python"
    }
  },
  "cells": [
    {
      "cell_type": "markdown",
      "metadata": {
        "id": "view-in-github",
        "colab_type": "text"
      },
      "source": [
        "<a href=\"https://colab.research.google.com/github/AnanyaSekar/dyslexia-classification/blob/main/DATA_PRE_PROCESSING.ipynb\" target=\"_parent\"><img src=\"https://colab.research.google.com/assets/colab-badge.svg\" alt=\"Open In Colab\"/></a>"
      ]
    },
    {
      "cell_type": "code",
      "execution_count": null,
      "metadata": {
        "id": "hKirBQ_zD_sb"
      },
      "outputs": [],
      "source": [
        "//DATA PRE-PROCESSING\n",
        "def load_data(file_path):\n",
        "    \"\"\"Loads the dataset from the given file path.\"\"\"\n",
        "    return pd.read_csv(file_path)\n",
        "\n",
        "def preprocess_data(df):\n",
        "    \"\"\"Preprocesses the data by handling missing values and separating features and labels.\"\"\"\n",
        "    df.fillna(df.mean(), inplace=True)  # Handle missing values\n",
        "    X = df.drop('target', axis=1)  # Features\n",
        "    y = df['target']  # Target labels\n",
        "    return X, y\n",
        "\n",
        "def normalize_data(X):\n",
        "    \"\"\"Normalizes the features using StandardScaler.\"\"\"\n",
        "    scaler = StandardScaler()\n",
        "    return scaler.fit_transform(X)"
      ]
    }
  ]
}